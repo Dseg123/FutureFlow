{
 "cells": [
  {
   "cell_type": "code",
   "execution_count": 4,
   "metadata": {},
   "outputs": [],
   "source": [
    "%load_ext autoreload\n",
    "%autoreload 2"
   ]
  },
  {
   "cell_type": "code",
   "execution_count": 16,
   "metadata": {},
   "outputs": [],
   "source": [
    "import numpy as np\n",
    "import torch\n",
    "import torch.nn as nn\n",
    "import torch.nn.functional as F\n",
    "import torch.optim as optim\n",
    "import matplotlib.pyplot as plt\n",
    "from sklearn.model_selection import train_test_split\n",
    "from torch.utils.data import DataLoader, TensorDataset\n",
    "import pandas as pd\n",
    "\n",
    "from dataset import TimeSeriesDataset\n",
    "from models import LinearRegression\n",
    "\n",
    "train_ds = TimeSeriesDataset('sample_data.csv', ['u', 'v', 'w'], 100, train=True)\n",
    "test_ds =  TimeSeriesDataset('sample_data.csv', ['u', 'v', 'w'], 100, train=False)\n",
    "\n",
    "train_loader = DataLoader(train_ds, batch_size = 64, shuffle=True)\n",
    "test_loader = DataLoader(test_ds, batch_size = 64, shuffle=True)\n",
    "\n",
    "my_model = LinearRegression(3, 100)"
   ]
  },
  {
   "cell_type": "code",
   "execution_count": 17,
   "metadata": {},
   "outputs": [
    {
     "name": "stdout",
     "output_type": "stream",
     "text": [
      "OrderedDict([('linears.0.weight', tensor([[-0.0284, -0.0095,  0.0071,  0.0839,  0.0046, -0.0751, -0.0900,  0.0555,\n",
      "          0.0653, -0.0271,  0.0617, -0.0135,  0.0310, -0.0279, -0.0197, -0.0506,\n",
      "         -0.0114, -0.0300, -0.0350,  0.0953,  0.0667,  0.0929, -0.0102, -0.0951,\n",
      "          0.0900, -0.0013, -0.0047,  0.0964, -0.0404, -0.0193, -0.0350, -0.0537,\n",
      "          0.0274,  0.0247,  0.0102,  0.0600,  0.0838, -0.0194,  0.0259, -0.0518,\n",
      "          0.0074, -0.0159, -0.0483, -0.0265,  0.0014, -0.0275, -0.0139, -0.0437,\n",
      "         -0.0955, -0.0450,  0.0312, -0.0657, -0.0228, -0.0312, -0.0996, -0.0982,\n",
      "         -0.0065, -0.0109,  0.0611,  0.0664,  0.0574, -0.0849,  0.0164,  0.0307,\n",
      "         -0.0780, -0.0286,  0.0654, -0.0642,  0.0061,  0.0897,  0.0300, -0.0590,\n",
      "         -0.0392,  0.0945, -0.0321, -0.0813,  0.0883, -0.0747, -0.0879,  0.0528,\n",
      "         -0.0917, -0.0098, -0.0916,  0.0642,  0.0760, -0.0259,  0.0986, -0.0956,\n",
      "          0.0048, -0.0640, -0.0563, -0.0325,  0.0051,  0.0662,  0.0485, -0.0334,\n",
      "         -0.0698, -0.0822,  0.0187,  0.0919]])), ('linears.0.bias', tensor([-0.0452])), ('linears.1.weight', tensor([[-0.0994, -0.0667, -0.0860,  0.0791, -0.0290, -0.0107, -0.0029,  0.0720,\n",
      "          0.0341, -0.0764, -0.0994, -0.0603,  0.0754, -0.0571,  0.0381, -0.0862,\n",
      "          0.0890,  0.0454,  0.0096,  0.0504, -0.0589,  0.0193, -0.0274, -0.0175,\n",
      "          0.0163, -0.0404,  0.0107, -0.0144, -0.0971,  0.0252,  0.0934, -0.0034,\n",
      "         -0.0829,  0.0760,  0.0706, -0.0673, -0.0430,  0.0684, -0.0052, -0.0681,\n",
      "         -0.0034,  0.0357,  0.0167, -0.0937,  0.0349,  0.0292,  0.0216,  0.0965,\n",
      "         -0.0280, -0.0797, -0.0223, -0.0437,  0.0026, -0.0805,  0.0761, -0.0223,\n",
      "          0.0461,  0.0656,  0.0457, -0.0211,  0.0372, -0.0009,  0.0879,  0.0172,\n",
      "          0.0099,  0.0879, -0.0531, -0.0787,  0.0693, -0.0369,  0.0120, -0.0749,\n",
      "          0.0119, -0.0958,  0.0642,  0.0249, -0.0485, -0.0193, -0.0432, -0.0949,\n",
      "         -0.0705, -0.0800,  0.0049, -0.0826, -0.0346, -0.0639,  0.0051,  0.0931,\n",
      "          0.0973, -0.0679,  0.0410, -0.0026,  0.0874, -0.0348, -0.0600, -0.0595,\n",
      "         -0.0137,  0.0025, -0.0845,  0.0727]])), ('linears.1.bias', tensor([-0.0941])), ('linears.2.weight', tensor([[-0.0129,  0.0544,  0.0906, -0.0155,  0.0007,  0.0399, -0.0231, -0.0780,\n",
      "         -0.0503,  0.0359, -0.0988,  0.0783, -0.0788,  0.0484, -0.0748, -0.0772,\n",
      "         -0.0216,  0.0238, -0.0172, -0.0014, -0.0219,  0.0704, -0.0869, -0.0273,\n",
      "          0.0765,  0.0030,  0.0414, -0.0262,  0.0241,  0.0567, -0.0238,  0.0450,\n",
      "          0.0761,  0.0535,  0.0319,  0.0568, -0.0672, -0.0660, -0.0904, -0.0090,\n",
      "          0.0907,  0.0458,  0.0900,  0.0807,  0.0286,  0.0491, -0.0981,  0.0543,\n",
      "          0.0306,  0.0284,  0.0856,  0.0903, -0.0945,  0.0593, -0.0292, -0.0242,\n",
      "         -0.0411,  0.0224,  0.0017,  0.0012, -0.0918, -0.0064,  0.0437,  0.0389,\n",
      "          0.0567,  0.0297, -0.0944, -0.0637, -0.0700, -0.0488,  0.0840, -0.0070,\n",
      "         -0.0807, -0.0152, -0.0102, -0.0048,  0.0188,  0.0171,  0.0221,  0.0781,\n",
      "         -0.0404,  0.0835, -0.0916, -0.0970, -0.0924, -0.0482,  0.0085, -0.0618,\n",
      "         -0.0294,  0.0985, -0.0871, -0.0587,  0.0236,  0.0329,  0.0320, -0.0591,\n",
      "         -0.0528,  0.0571,  0.0905,  0.0275]])), ('linears.2.bias', tensor([0.0972]))])\n"
     ]
    }
   ],
   "source": [
    "print(my_model.state_dict())"
   ]
  },
  {
   "cell_type": "code",
   "execution_count": 18,
   "metadata": {},
   "outputs": [],
   "source": [
    "for batch_X, batch_y in train_loader:\n",
    "    bx = batch_X\n",
    "    by = batch_y\n",
    "    break"
   ]
  },
  {
   "cell_type": "code",
   "execution_count": 12,
   "metadata": {},
   "outputs": [
    {
     "name": "stdout",
     "output_type": "stream",
     "text": [
      "tensor([1.7283, 1.4780, 1.6540, 2.0312, 1.7271, 0.9262, 1.1574, 1.3773, 1.3235,\n",
      "        1.5379, 1.3501, 1.1664, 1.4738, 1.2526, 1.0037, 1.0259, 1.2447, 1.1924,\n",
      "        0.9953, 0.9637, 0.8132, 1.1131, 0.9846, 1.0603, 1.9947, 1.9497, 1.4320,\n",
      "        1.6947, 1.3894, 1.5830, 2.7933, 1.8742, 1.9676, 2.0616, 2.0504, 1.5969,\n",
      "        1.0849, 1.0005, 1.1345, 0.9578, 0.9490, 0.9711, 0.8734, 1.2162, 1.5980,\n",
      "        1.6798, 1.5184, 1.4469, 1.3372, 0.6596, 0.7807, 1.0808, 1.7227, 2.0995,\n",
      "        2.0274, 1.9515, 1.7765, 1.8446, 2.1954, 1.9088, 1.8762, 1.5251, 2.1092,\n",
      "        2.0529, 2.2489, 2.2339, 2.0587, 1.7268, 2.2888, 2.7055, 2.7768, 3.0430,\n",
      "        2.3521, 2.7568, 2.9375, 2.8577, 2.7145, 2.5915, 2.4646, 2.3922, 2.6572,\n",
      "        2.4859, 2.3395, 2.1781, 2.4575, 2.2461, 2.0190, 1.6125, 1.8521, 2.1008,\n",
      "        1.9497, 1.9941, 1.8720, 1.8433, 1.9231, 1.9066, 1.8852, 1.6118, 2.3075,\n",
      "        1.9777])\n"
     ]
    }
   ],
   "source": [
    "print(bx[0][:, 0])"
   ]
  },
  {
   "cell_type": "code",
   "execution_count": 38,
   "metadata": {},
   "outputs": [
    {
     "name": "stdout",
     "output_type": "stream",
     "text": [
      "torch.Size([64, 3])\n"
     ]
    }
   ],
   "source": [
    "print(my_model(bx).shape)"
   ]
  },
  {
   "cell_type": "code",
   "execution_count": 39,
   "metadata": {},
   "outputs": [
    {
     "name": "stdout",
     "output_type": "stream",
     "text": [
      "torch.Size([64, 3])\n"
     ]
    }
   ],
   "source": [
    "print(by.shape)"
   ]
  },
  {
   "cell_type": "code",
   "execution_count": 49,
   "metadata": {},
   "outputs": [],
   "source": [
    "from models import LinearRegressionFlat\n",
    "model_flat = LinearRegressionFlat(3, 100)"
   ]
  },
  {
   "cell_type": "code",
   "execution_count": 46,
   "metadata": {},
   "outputs": [
    {
     "data": {
      "text/plain": [
       "torch.Size([64, 100, 3])"
      ]
     },
     "execution_count": 46,
     "metadata": {},
     "output_type": "execute_result"
    }
   ],
   "source": [
    "bx.shape"
   ]
  },
  {
   "cell_type": "code",
   "execution_count": 50,
   "metadata": {},
   "outputs": [
    {
     "data": {
      "text/plain": [
       "torch.Size([64, 3])"
      ]
     },
     "execution_count": 50,
     "metadata": {},
     "output_type": "execute_result"
    }
   ],
   "source": [
    "model_flat(bx).shape"
   ]
  },
  {
   "cell_type": "code",
   "execution_count": 52,
   "metadata": {},
   "outputs": [
    {
     "data": {
      "text/plain": [
       "torch.Size([64, 3])"
      ]
     },
     "execution_count": 52,
     "metadata": {},
     "output_type": "execute_result"
    }
   ],
   "source": [
    "my_model(bx).shape"
   ]
  },
  {
   "cell_type": "code",
   "execution_count": null,
   "metadata": {},
   "outputs": [],
   "source": []
  },
  {
   "cell_type": "code",
   "execution_count": 23,
   "metadata": {},
   "outputs": [],
   "source": [
    "lin =nn.Linear(100, 1)"
   ]
  },
  {
   "cell_type": "code",
   "execution_count": 33,
   "metadata": {},
   "outputs": [
    {
     "name": "stdout",
     "output_type": "stream",
     "text": [
      "torch.Size([64, 100])\n"
     ]
    }
   ],
   "source": [
    "print(batch_X[:, :, 0].shape)"
   ]
  },
  {
   "cell_type": "code",
   "execution_count": 35,
   "metadata": {},
   "outputs": [
    {
     "name": "stdout",
     "output_type": "stream",
     "text": [
      "torch.Size([64, 1])\n"
     ]
    }
   ],
   "source": [
    "print(lin(batch_X[:, :, 0]).shape)"
   ]
  },
  {
   "cell_type": "code",
   "execution_count": 2,
   "metadata": {},
   "outputs": [],
   "source": [
    "from dataset import TimeSeriesDataset"
   ]
  },
  {
   "cell_type": "code",
   "execution_count": 13,
   "metadata": {},
   "outputs": [],
   "source": [
    "ds = TimeSeriesDataset('sample_data.csv', ['u', 'v', 'w'], 100)"
   ]
  },
  {
   "cell_type": "code",
   "execution_count": 16,
   "metadata": {},
   "outputs": [
    {
     "name": "stdout",
     "output_type": "stream",
     "text": [
      "(tensor([[ 5.9242e-04, -5.7671e-01, -4.5325e-01],\n",
      "        [-8.9973e-02, -5.3263e-01, -5.9750e-02],\n",
      "        [ 3.0763e-02, -3.8537e-01, -3.2500e-03],\n",
      "        [ 5.4935e-01, -6.8628e-01, -1.3750e-01],\n",
      "        [ 8.6002e-01, -1.1658e+00,  5.5000e-02],\n",
      "        [ 7.5903e-01, -9.6405e-01, -5.7900e-01],\n",
      "        [ 1.3851e-01, -7.6313e-01, -2.7900e-01],\n",
      "        [-4.7151e-01, -6.3400e-01, -5.3150e-01],\n",
      "        [-6.4079e-02, -1.0176e+00, -5.7475e-01],\n",
      "        [-1.4970e-01, -1.0096e+00, -4.2950e-01],\n",
      "        [ 4.9080e-02, -9.7745e-01, -3.1250e-01],\n",
      "        [ 1.7079e-01, -1.0419e+00, -4.0250e-01],\n",
      "        [ 1.9497e-01, -9.3539e-01, -3.2925e-01],\n",
      "        [ 2.0501e-01, -9.1630e-01, -2.3600e-01],\n",
      "        [ 4.2235e-01, -8.8119e-01, -3.4475e-01],\n",
      "        [ 2.4722e-01, -7.1722e-01, -3.3250e-01],\n",
      "        [ 6.1128e-01, -3.8704e-01, -6.5975e-01],\n",
      "        [ 6.3063e-01, -2.5508e-01, -5.1750e-01],\n",
      "        [ 9.2356e-01, -6.1656e-01,  4.4900e-01],\n",
      "        [ 5.8931e-01, -1.3399e+00,  6.2250e-02],\n",
      "        [ 1.6790e-02, -7.4305e-01, -1.5500e-02],\n",
      "        [-2.9028e-01, -9.1814e-01, -2.5100e-01],\n",
      "        [-2.1833e-01, -9.6545e-01, -6.6500e-02],\n",
      "        [ 5.3304e-02, -9.3779e-01, -9.3750e-02],\n",
      "        [ 5.6629e-01, -6.1610e-01,  1.2875e-01],\n",
      "        [ 5.6973e-01, -3.3077e-01,  3.1625e-01],\n",
      "        [ 5.8549e-01, -2.5616e-01, -4.3250e-02],\n",
      "        [ 6.6453e-01, -3.0192e-01,  4.9250e-02],\n",
      "        [ 1.0532e+00, -4.2028e-01,  5.2300e-01],\n",
      "        [ 5.8497e-01, -4.3239e-01,  2.7900e-01],\n",
      "        [ 5.5127e-01, -3.8173e-01,  2.8175e-01],\n",
      "        [ 2.8571e-01, -3.8361e-01,  2.1450e-01],\n",
      "        [ 3.5843e-01, -4.7624e-01, -2.5300e-01],\n",
      "        [ 1.6924e-01, -3.6720e-01, -3.5650e-01],\n",
      "        [-1.4509e-01, -5.5050e-01, -2.6125e-01],\n",
      "        [ 2.7042e-01, -3.1343e-01, -1.5175e-01],\n",
      "        [ 3.3659e-02, -4.1938e-01, -1.6700e-01],\n",
      "        [-1.4849e-02, -5.4336e-01, -4.3400e-01],\n",
      "        [ 1.5401e-01, -8.7178e-01, -4.5225e-01],\n",
      "        [ 2.3539e-01, -7.2012e-01, -2.3750e-01],\n",
      "        [ 3.5171e-01, -6.8879e-01, -1.6200e-01],\n",
      "        [ 5.6788e-01, -6.9954e-01, -5.0000e-03],\n",
      "        [ 2.8120e-01, -4.9488e-01, -5.1750e-01],\n",
      "        [-3.3594e-02, -8.7738e-01, -2.9875e-01],\n",
      "        [ 1.6138e-01, -6.7383e-01, -4.6150e-01],\n",
      "        [-2.0467e-02, -7.9591e-01, -5.2050e-01],\n",
      "        [ 8.0884e-02, -9.2474e-01, -4.3575e-01],\n",
      "        [ 2.7526e-02, -9.9617e-01,  5.5000e-02],\n",
      "        [ 4.4175e-01, -1.1327e+00, -9.6750e-02],\n",
      "        [ 3.0367e-01, -7.2033e-01,  1.8125e-01],\n",
      "        [ 3.9743e-01, -3.8334e-01,  1.7425e-01],\n",
      "        [ 7.5867e-01, -4.3072e-01,  5.0000e-02],\n",
      "        [ 2.8653e-01, -7.6106e-01, -4.0525e-01],\n",
      "        [ 6.5337e-01, -7.7248e-01,  6.9250e-02],\n",
      "        [ 9.9257e-01, -1.1043e+00, -3.8800e-01],\n",
      "        [ 6.4018e-01, -8.6528e-01, -3.2000e-01],\n",
      "        [ 2.5627e-01, -6.8189e-01, -6.2700e-01],\n",
      "        [-1.3765e-01, -1.1388e+00, -4.8675e-01],\n",
      "        [-2.3272e-01, -1.3852e+00, -3.0875e-01],\n",
      "        [ 4.3995e-02, -1.2319e+00, -5.2700e-01],\n",
      "        [-2.1843e-01, -1.2277e+00, -8.2475e-01],\n",
      "        [ 5.7071e-02, -1.3188e+00, -6.6900e-01],\n",
      "        [-2.8326e-02, -1.2928e+00, -5.1250e-01],\n",
      "        [ 2.9211e-01, -1.2065e+00, -7.8625e-01],\n",
      "        [ 4.3510e-01, -1.1939e+00, -6.2625e-01],\n",
      "        [ 8.6998e-01, -1.5659e+00, -4.2875e-01],\n",
      "        [ 1.2505e+00, -1.2629e+00,  8.0000e-03],\n",
      "        [ 8.6443e-01, -1.0297e+00,  2.2250e-02],\n",
      "        [ 8.4054e-01, -9.8002e-01, -8.5000e-03],\n",
      "        [ 1.0839e+00, -6.9424e-01, -3.2075e-01],\n",
      "        [ 4.4685e-01, -9.1944e-01, -2.9975e-01],\n",
      "        [ 3.6936e-01, -1.0791e+00, -2.9750e-02],\n",
      "        [-1.6657e-01, -7.3812e-01, -3.7850e-01],\n",
      "        [-1.9361e-01, -6.9871e-01, -2.1950e-01],\n",
      "        [ 2.9909e-02, -1.1309e+00, -8.9000e-02],\n",
      "        [ 3.7560e-01, -1.2490e+00, -3.0175e-01],\n",
      "        [ 5.7470e-01, -1.2982e+00, -3.8400e-01],\n",
      "        [ 7.2166e-01, -1.2711e+00,  1.2250e-01],\n",
      "        [ 6.7096e-01, -1.1096e+00, -2.8500e-02],\n",
      "        [ 4.6212e-01, -1.1941e+00, -2.9600e-01],\n",
      "        [ 7.3368e-01, -7.7603e-01, -1.1600e-01],\n",
      "        [ 7.1152e-01, -7.5385e-01, -2.2750e-02],\n",
      "        [ 6.0148e-01, -6.9215e-01, -7.6500e-02],\n",
      "        [ 6.1622e-01, -9.5584e-01,  7.1750e-02],\n",
      "        [ 5.9375e-01, -1.1030e+00, -1.3475e-01],\n",
      "        [ 5.2412e-01, -9.0467e-01, -2.7025e-01],\n",
      "        [ 3.7955e-01, -9.2747e-01, -3.2125e-01],\n",
      "        [ 2.0908e-01, -1.1804e+00, -1.9125e-01],\n",
      "        [ 5.5203e-01, -7.4731e-01, -2.0250e-02],\n",
      "        [ 8.4506e-01, -6.0188e-01, -8.6750e-02],\n",
      "        [ 4.9051e-01, -1.1678e+00, -5.5025e-01],\n",
      "        [ 3.0572e-01, -1.4343e+00, -3.7750e-01],\n",
      "        [ 4.4041e-01, -7.5225e-01, -2.1250e-01],\n",
      "        [ 3.0508e-01, -6.8562e-01, -1.4950e-01],\n",
      "        [ 8.3665e-01, -9.4086e-01,  1.0250e-02],\n",
      "        [ 5.8140e-01, -6.7489e-01, -6.5250e-02],\n",
      "        [ 8.1155e-01, -7.4182e-01,  3.6500e-02],\n",
      "        [ 4.9398e-01, -9.5187e-01,  1.2825e-01],\n",
      "        [ 5.7536e-01, -1.0026e+00,  2.8450e-01],\n",
      "        [ 2.3024e-01, -8.7919e-01,  1.2125e-01]]), tensor([ 0.1775, -0.4186,  0.3850]))\n"
     ]
    }
   ],
   "source": [
    "print(ds.__getitem__(10))"
   ]
  },
  {
   "cell_type": "code",
   "execution_count": 21,
   "metadata": {},
   "outputs": [
    {
     "name": "stdout",
     "output_type": "stream",
     "text": [
      "torch.Size([64, 100, 3])\n",
      "torch.Size([64, 3])\n"
     ]
    }
   ],
   "source": [
    "for batch_X, batch_y in dl:\n",
    "    print(batch_X.shape)\n",
    "    print(batch_y.shape)\n",
    "    break"
   ]
  },
  {
   "cell_type": "code",
   "execution_count": 1,
   "metadata": {},
   "outputs": [],
   "source": [
    "import numpy as np\n",
    "import torch\n",
    "import torch.nn as nn\n",
    "import torch.nn.functional as F\n",
    "import torch.optim as optim\n",
    "import matplotlib.pyplot as plt\n",
    "from sklearn.model_selection import train_test_split\n",
    "from torch.utils.data import DataLoader, TensorDataset\n",
    "import pandas as pd"
   ]
  },
  {
   "cell_type": "code",
   "execution_count": 3,
   "metadata": {},
   "outputs": [],
   "source": [
    "train_ds = TimeSeriesDataset('sample_data.csv', ['u', 'v', 'w'], 100, train=True)\n",
    "test_ds =  TimeSeriesDataset('sample_data.csv', ['u', 'v', 'w'], 100, train=False)"
   ]
  },
  {
   "cell_type": "code",
   "execution_count": 4,
   "metadata": {},
   "outputs": [
    {
     "name": "stdout",
     "output_type": "stream",
     "text": [
      "393432\n"
     ]
    }
   ],
   "source": [
    "print(len(train_ds))"
   ]
  },
  {
   "cell_type": "code",
   "execution_count": 5,
   "metadata": {},
   "outputs": [
    {
     "name": "stdout",
     "output_type": "stream",
     "text": [
      "98357\n"
     ]
    }
   ],
   "source": [
    "print(len(test_ds))"
   ]
  },
  {
   "cell_type": "code",
   "execution_count": 7,
   "metadata": {},
   "outputs": [],
   "source": [
    "train_loader = DataLoader(train_ds, batch_size = 64, shuffle=True)\n",
    "test_loader = DataLoader(test_ds, batch_size = 64, shuffle=True)"
   ]
  },
  {
   "cell_type": "code",
   "execution_count": 8,
   "metadata": {},
   "outputs": [
    {
     "name": "stdout",
     "output_type": "stream",
     "text": [
      "torch.Size([64, 100, 3]) torch.Size([64, 3])\n"
     ]
    }
   ],
   "source": [
    "for batch_x, batch_y in train_loader:\n",
    "    print(batch_x.shape, batch_y.shape)\n",
    "    break"
   ]
  },
  {
   "cell_type": "code",
   "execution_count": 18,
   "metadata": {},
   "outputs": [],
   "source": [
    "dl = DataLoader(ds, batch_size=64, shuffle=TrueDataLoader(train_dataset, batch_size=64, shuffle=True))"
   ]
  },
  {
   "cell_type": "code",
   "execution_count": 2,
   "metadata": {},
   "outputs": [],
   "source": [
    "import numpy as np\n",
    "import pandas as pd\n",
    "import matplotlib.pyplot as plt"
   ]
  },
  {
   "cell_type": "code",
   "execution_count": null,
   "metadata": {},
   "outputs": [],
   "source": [
    "file_name = "
   ]
  },
  {
   "cell_type": "code",
   "execution_count": 3,
   "metadata": {},
   "outputs": [
    {
     "name": "stderr",
     "output_type": "stream",
     "text": [
      "/home/dylaneg/.local/lib/python3.10/site-packages/scipy/io/matlab/_mio.py:227: MatReadWarning: Duplicate variable name \"None\" in stream - replacing previous with new\n",
      "Consider mio5.varmats_from_mat to split file into single variable files\n",
      "  matfile_dict = MR.get_variables(variable_names)\n"
     ]
    }
   ],
   "source": [
    "import scipy.io\n",
    "mat = scipy.io.loadmat('csat_data_5_27_2022.mat')"
   ]
  },
  {
   "cell_type": "code",
   "execution_count": 4,
   "metadata": {},
   "outputs": [
    {
     "name": "stdout",
     "output_type": "stream",
     "text": [
      "[(b'time', b'MCOS', b'datetime', array([[3707764736],\n",
      "        [         2],\n",
      "        [         1],\n",
      "        [         1],\n",
      "        [         4],\n",
      "        [         1]], dtype=uint32))                ]\n"
     ]
    }
   ],
   "source": [
    "print(np.array(mat['None']))"
   ]
  },
  {
   "cell_type": "code",
   "execution_count": 8,
   "metadata": {},
   "outputs": [],
   "source": [
    "u_vals = mat['u'][:, 0]\n",
    "v_vals = mat['v'][:, 0]\n",
    "w_vals = mat['w'][:, 0]"
   ]
  },
  {
   "cell_type": "code",
   "execution_count": 9,
   "metadata": {},
   "outputs": [
    {
     "name": "stdout",
     "output_type": "stream",
     "text": [
      "[ 0.3799339   0.15147042 -0.19240183 ...  2.88711187  3.57278081\n",
      "  2.1278631 ]\n"
     ]
    }
   ],
   "source": [
    "print(u_vals)"
   ]
  },
  {
   "cell_type": "code",
   "execution_count": 10,
   "metadata": {},
   "outputs": [],
   "source": [
    "dct = {'u': u_vals, 'v': v_vals, 'w': w_vals}"
   ]
  },
  {
   "cell_type": "code",
   "execution_count": 12,
   "metadata": {},
   "outputs": [],
   "source": [
    "pd.DataFrame.from_dict(dct).to_csv('sample_data.csv', index=False)"
   ]
  },
  {
   "cell_type": "code",
   "execution_count": 6,
   "metadata": {},
   "outputs": [
    {
     "name": "stdout",
     "output_type": "stream",
     "text": [
      "491890\n"
     ]
    }
   ],
   "source": [
    "print(len(u_vals))"
   ]
  },
  {
   "cell_type": "code",
   "execution_count": 29,
   "metadata": {},
   "outputs": [
    {
     "ename": "TypeError",
     "evalue": "'module' object is not callable",
     "output_type": "error",
     "traceback": [
      "\u001b[0;31m---------------------------------------------------------------------------\u001b[0m",
      "\u001b[0;31mTypeError\u001b[0m                                 Traceback (most recent call last)",
      "\u001b[1;32m/home/dylaneg/Documents/Programming/IROM/FutureFlow/initial_model.ipynb Cell 7\u001b[0m line \u001b[0;36m1\n\u001b[0;32m----> <a href='vscode-notebook-cell:/home/dylaneg/Documents/Programming/IROM/FutureFlow/initial_model.ipynb#X44sZmlsZQ%3D%3D?line=0'>1</a>\u001b[0m \u001b[39mprint\u001b[39m(np\u001b[39m.\u001b[39;49mfft(u_vals))\n",
      "\u001b[0;31mTypeError\u001b[0m: 'module' object is not callable"
     ]
    }
   ],
   "source": [
    "print(np.fft(u_vals))"
   ]
  },
  {
   "cell_type": "code",
   "execution_count": 6,
   "metadata": {},
   "outputs": [],
   "source": [
    "# Define the logistic regression model\n",
    "class LinearRegression(nn.Module):\n",
    "\n",
    "    def __init__(self, input_dim):\n",
    "        super(LinearRegression, self).__init__()\n",
    "        self.linear = nn.Linear(input_dim, 1)\n",
    "\n",
    "    def forward(self, x):\n",
    "        return (self.linear(x))\n",
    "    \n",
    "    def custom_loss(self, y_pred, y_true):\n",
    "        return torch.mean(torch.square(y_pred - y_true))"
   ]
  },
  {
   "cell_type": "code",
   "execution_count": 12,
   "metadata": {},
   "outputs": [],
   "source": [
    "u_mean = (np.mean(u_vals))\n",
    "u_std = (np.std(u_vals))"
   ]
  },
  {
   "cell_type": "code",
   "execution_count": 13,
   "metadata": {},
   "outputs": [],
   "source": [
    "u_vals = u_vals[:, 0]"
   ]
  },
  {
   "cell_type": "code",
   "execution_count": 14,
   "metadata": {},
   "outputs": [],
   "source": [
    "u_vals_normed = (u_vals - u_mean)/u_std"
   ]
  },
  {
   "cell_type": "code",
   "execution_count": 15,
   "metadata": {},
   "outputs": [],
   "source": [
    "frac = 0.8\n",
    "train_u = u_vals_normed[:int(frac * len(u_vals_normed))]\n",
    "test_u = u_vals_normed[int(frac * len(u_vals_normed)):]"
   ]
  },
  {
   "cell_type": "code",
   "execution_count": 12,
   "metadata": {},
   "outputs": [
    {
     "name": "stdout",
     "output_type": "stream",
     "text": [
      "[-0.58972238 -0.72152728 -0.91991368 ...  0.3599549  -0.08010303\n",
      "  0.19220368]\n"
     ]
    }
   ],
   "source": [
    "print(train_u)"
   ]
  },
  {
   "cell_type": "code",
   "execution_count": 57,
   "metadata": {},
   "outputs": [
    {
     "name": "stdout",
     "output_type": "stream",
     "text": [
      "[-0.721527281882787, -0.9199136779748445, -0.7502415878507295, -0.7566893073506548, -0.8241668056877361]\n"
     ]
    }
   ],
   "source": [
    "print(list(train_u[1:6]))"
   ]
  },
  {
   "cell_type": "code",
   "execution_count": 13,
   "metadata": {},
   "outputs": [
    {
     "ename": "TypeError",
     "evalue": "'numpy.float64' object is not iterable",
     "output_type": "error",
     "traceback": [
      "\u001b[0;31m---------------------------------------------------------------------------\u001b[0m",
      "\u001b[0;31mTypeError\u001b[0m                                 Traceback (most recent call last)",
      "\u001b[1;32m/home/dylaneg/Documents/Programming/IROM/FutureFlow/initial_model.ipynb Cell 13\u001b[0m line \u001b[0;36m1\n\u001b[0;32m----> <a href='vscode-notebook-cell:/home/dylaneg/Documents/Programming/IROM/FutureFlow/initial_model.ipynb#X16sZmlsZQ%3D%3D?line=0'>1</a>\u001b[0m \u001b[39mprint\u001b[39m(\u001b[39mlist\u001b[39;49m(train_u[\u001b[39m5\u001b[39;49m]))\n",
      "\u001b[0;31mTypeError\u001b[0m: 'numpy.float64' object is not iterable"
     ]
    }
   ],
   "source": [
    "print(list(train_u[5]))"
   ]
  },
  {
   "cell_type": "code",
   "execution_count": 16,
   "metadata": {},
   "outputs": [],
   "source": [
    "sample_len = 100\n",
    "X_train = []\n",
    "y_train = []\n",
    "for i in range(len(train_u) - sample_len):\n",
    "    try:\n",
    "        X_train.append(list(train_u[i:i+sample_len]))\n",
    "        y_train.append(train_u[i+sample_len])\n",
    "    except:\n",
    "        break\n",
    "\n",
    "X_test = []\n",
    "y_test = []\n",
    "for i in range(len(test_u) - sample_len):\n",
    "    try:\n",
    "        X_test.append(list(test_u[i:i+sample_len]))\n",
    "        y_test.append(test_u[i+sample_len])\n",
    "    except:\n",
    "        break"
   ]
  },
  {
   "cell_type": "code",
   "execution_count": 17,
   "metadata": {},
   "outputs": [],
   "source": [
    "X_train = np.array(X_train)"
   ]
  },
  {
   "cell_type": "code",
   "execution_count": 18,
   "metadata": {},
   "outputs": [],
   "source": [
    "y_train = np.array(y_train)"
   ]
  },
  {
   "cell_type": "code",
   "execution_count": 19,
   "metadata": {},
   "outputs": [],
   "source": [
    "X_train = torch.tensor(X_train, dtype=torch.float32)\n",
    "y_train = torch.tensor(y_train, dtype=torch.float32)"
   ]
  },
  {
   "cell_type": "code",
   "execution_count": 20,
   "metadata": {},
   "outputs": [],
   "source": [
    "X_test = torch.tensor(np.array(X_test), dtype=torch.float32)\n",
    "y_test = torch.tensor(np.array(y_test), dtype=torch.float32)"
   ]
  },
  {
   "cell_type": "code",
   "execution_count": 21,
   "metadata": {},
   "outputs": [],
   "source": [
    "train_dataset = TensorDataset(X_train, y_train)\n",
    "train_loader = DataLoader(train_dataset, batch_size=64, shuffle=True)"
   ]
  },
  {
   "cell_type": "code",
   "execution_count": 22,
   "metadata": {},
   "outputs": [],
   "source": [
    "model = LinearRegression(sample_len)"
   ]
  },
  {
   "cell_type": "code",
   "execution_count": 145,
   "metadata": {},
   "outputs": [],
   "source": [
    "optimizer = optim.Adam(model.parameters(), lr=1e-4)"
   ]
  },
  {
   "cell_type": "code",
   "execution_count": 24,
   "metadata": {},
   "outputs": [],
   "source": [
    "y_pred = model(X_test)"
   ]
  },
  {
   "cell_type": "code",
   "execution_count": 80,
   "metadata": {},
   "outputs": [
    {
     "name": "stdout",
     "output_type": "stream",
     "text": [
      "torch.Size([98278, 1])\n"
     ]
    }
   ],
   "source": [
    "print(y_pred.shape)"
   ]
  },
  {
   "cell_type": "code",
   "execution_count": 25,
   "metadata": {},
   "outputs": [],
   "source": [
    "y_test = (y_test.reshape((98278, 1)))"
   ]
  },
  {
   "cell_type": "code",
   "execution_count": 26,
   "metadata": {},
   "outputs": [
    {
     "name": "stdout",
     "output_type": "stream",
     "text": [
      "tensor(1.0180, grad_fn=<SqrtBackward0>)\n"
     ]
    }
   ],
   "source": [
    "print(torch.sqrt(torch.mean(torch.square(y_pred - y_test))))"
   ]
  },
  {
   "cell_type": "code",
   "execution_count": 82,
   "metadata": {},
   "outputs": [
    {
     "name": "stdout",
     "output_type": "stream",
     "text": [
      "tensor(1.1958, grad_fn=<SqrtBackward0>)\n"
     ]
    }
   ],
   "source": [
    "print(torch.sqrt(torch.mean(torch.square(y_pred - y_test))))"
   ]
  },
  {
   "cell_type": "code",
   "execution_count": 114,
   "metadata": {},
   "outputs": [
    {
     "name": "stdout",
     "output_type": "stream",
     "text": [
      "OrderedDict([('linear.weight', tensor([[0.0100, 0.0100, 0.0100, 0.0100, 0.0100, 0.0100, 0.0100, 0.0100, 0.0100,\n",
      "         0.0100, 0.0100, 0.0100, 0.0100, 0.0100, 0.0100, 0.0100, 0.0100, 0.0100,\n",
      "         0.0100, 0.0100, 0.0100, 0.0100, 0.0100, 0.0100, 0.0100, 0.0100, 0.0100,\n",
      "         0.0100, 0.0100, 0.0100, 0.0100, 0.0100, 0.0100, 0.0100, 0.0100, 0.0100,\n",
      "         0.0100, 0.0100, 0.0100, 0.0100, 0.0100, 0.0100, 0.0100, 0.0100, 0.0100,\n",
      "         0.0100, 0.0100, 0.0100, 0.0100, 0.0100, 0.0100, 0.0100, 0.0100, 0.0100,\n",
      "         0.0100, 0.0100, 0.0100, 0.0100, 0.0100, 0.0100, 0.0100, 0.0100, 0.0100,\n",
      "         0.0100, 0.0100, 0.0100, 0.0100, 0.0100, 0.0100, 0.0100, 0.0100, 0.0100,\n",
      "         0.0100, 0.0100, 0.0100, 0.0100, 0.0100, 0.0100, 0.0100, 0.0100, 0.0100,\n",
      "         0.0100, 0.0100, 0.0100, 0.0100, 0.0100, 0.0100, 0.0100, 0.0100, 0.0100,\n",
      "         0.0100, 0.0100, 0.0100, 0.0100, 0.0100, 0.0100, 0.0100, 0.0100, 0.0100,\n",
      "         0.0100]])), ('linear.bias', tensor([0.]))])\n"
     ]
    }
   ],
   "source": [
    "print(model.state_dict())"
   ]
  },
  {
   "cell_type": "code",
   "execution_count": 112,
   "metadata": {},
   "outputs": [],
   "source": [
    "set_weights(model, weights)"
   ]
  },
  {
   "cell_type": "code",
   "execution_count": 116,
   "metadata": {},
   "outputs": [],
   "source": [
    "bx = 0\n",
    "by = 0\n",
    "for batch_X, batch_y in train_loader:\n",
    "    bx = batch_X\n",
    "    by = batch_y"
   ]
  },
  {
   "cell_type": "code",
   "execution_count": 118,
   "metadata": {},
   "outputs": [
    {
     "name": "stdout",
     "output_type": "stream",
     "text": [
      "torch.Size([4, 100])\n"
     ]
    }
   ],
   "source": [
    "print(bx.shape)"
   ]
  },
  {
   "cell_type": "code",
   "execution_count": 119,
   "metadata": {},
   "outputs": [
    {
     "name": "stdout",
     "output_type": "stream",
     "text": [
      "torch.Size([4])\n"
     ]
    }
   ],
   "source": [
    "print(by.shape)"
   ]
  },
  {
   "cell_type": "code",
   "execution_count": 122,
   "metadata": {},
   "outputs": [],
   "source": [
    "bpred = (model(bx))"
   ]
  },
  {
   "cell_type": "code",
   "execution_count": 124,
   "metadata": {},
   "outputs": [
    {
     "name": "stdout",
     "output_type": "stream",
     "text": [
      "tensor([[-0.3191],\n",
      "        [ 0.2880],\n",
      "        [ 0.1688],\n",
      "        [-0.4869]], grad_fn=<AddmmBackward0>)\n"
     ]
    }
   ],
   "source": [
    "print(bpred)"
   ]
  },
  {
   "cell_type": "code",
   "execution_count": 127,
   "metadata": {},
   "outputs": [
    {
     "name": "stdout",
     "output_type": "stream",
     "text": [
      "tensor([[-0.3191,  0.2880,  0.1688, -0.4869]], grad_fn=<ReshapeAliasBackward0>)\n"
     ]
    }
   ],
   "source": [
    "print(bpred.reshape(1, len(bpred)))"
   ]
  },
  {
   "cell_type": "code",
   "execution_count": 128,
   "metadata": {},
   "outputs": [
    {
     "name": "stdout",
     "output_type": "stream",
     "text": [
      "tensor([-0.2055,  0.0669,  0.3035, -0.2323])\n"
     ]
    }
   ],
   "source": [
    "print(by)"
   ]
  },
  {
   "cell_type": "code",
   "execution_count": 130,
   "metadata": {},
   "outputs": [
    {
     "name": "stdout",
     "output_type": "stream",
     "text": [
      "tensor([[-0.1136, -0.3860, -0.6226, -0.0868],\n",
      "        [ 0.4935,  0.2210, -0.0156,  0.5203],\n",
      "        [ 0.3743,  0.1019, -0.1348,  0.4011],\n",
      "        [-0.2813, -0.5538, -0.7904, -0.2546]], grad_fn=<SubBackward0>)\n"
     ]
    }
   ],
   "source": [
    "print(bpred - by)"
   ]
  },
  {
   "cell_type": "code",
   "execution_count": 126,
   "metadata": {},
   "outputs": [
    {
     "data": {
      "text/plain": [
       "tensor(0.0362, grad_fn=<MeanBackward0>)"
      ]
     },
     "execution_count": 126,
     "metadata": {},
     "output_type": "execute_result"
    }
   ],
   "source": [
    "model.custom_loss(bpred.reshape(1, len(bpred)), by)"
   ]
  },
  {
   "cell_type": "code",
   "execution_count": 133,
   "metadata": {},
   "outputs": [],
   "source": [
    "shit_model = LinearRegression(100)\n",
    "set_weights(shit_model, weights)"
   ]
  },
  {
   "cell_type": "code",
   "execution_count": 146,
   "metadata": {},
   "outputs": [
    {
     "name": "stdout",
     "output_type": "stream",
     "text": [
      "Epoch [1/30] - Train Loss: 0.0385\n",
      "Epoch [2/30] - Train Loss: 0.0384\n",
      "Epoch [3/30] - Train Loss: 0.0384\n",
      "Epoch [4/30] - Train Loss: 0.0384\n",
      "Epoch [5/30] - Train Loss: 0.0384\n",
      "Epoch [6/30] - Train Loss: 0.0384\n",
      "Epoch [7/30] - Train Loss: 0.0384\n",
      "Epoch [8/30] - Train Loss: 0.0384\n",
      "Epoch [9/30] - Train Loss: 0.0384\n",
      "Epoch [10/30] - Train Loss: 0.0384\n",
      "Epoch [11/30] - Train Loss: 0.0384\n",
      "Epoch [12/30] - Train Loss: 0.0384\n"
     ]
    },
    {
     "ename": "KeyboardInterrupt",
     "evalue": "",
     "output_type": "error",
     "traceback": [
      "\u001b[0;31m---------------------------------------------------------------------------\u001b[0m",
      "\u001b[0;31mKeyboardInterrupt\u001b[0m                         Traceback (most recent call last)",
      "\u001b[1;32m/home/dylaneg/Documents/Programming/IROM/FutureFlow/initial_model.ipynb Cell 41\u001b[0m line \u001b[0;36m7\n\u001b[1;32m      <a href='vscode-notebook-cell:/home/dylaneg/Documents/Programming/IROM/FutureFlow/initial_model.ipynb#X40sZmlsZQ%3D%3D?line=3'>4</a>\u001b[0m model\u001b[39m.\u001b[39mtrain()\n\u001b[1;32m      <a href='vscode-notebook-cell:/home/dylaneg/Documents/Programming/IROM/FutureFlow/initial_model.ipynb#X40sZmlsZQ%3D%3D?line=4'>5</a>\u001b[0m train_loss \u001b[39m=\u001b[39m \u001b[39m0\u001b[39m\n\u001b[0;32m----> <a href='vscode-notebook-cell:/home/dylaneg/Documents/Programming/IROM/FutureFlow/initial_model.ipynb#X40sZmlsZQ%3D%3D?line=6'>7</a>\u001b[0m \u001b[39mfor\u001b[39;00m batch_X, batch_y \u001b[39min\u001b[39;00m train_loader:\n\u001b[1;32m      <a href='vscode-notebook-cell:/home/dylaneg/Documents/Programming/IROM/FutureFlow/initial_model.ipynb#X40sZmlsZQ%3D%3D?line=7'>8</a>\u001b[0m     optimizer\u001b[39m.\u001b[39mzero_grad()\n\u001b[1;32m     <a href='vscode-notebook-cell:/home/dylaneg/Documents/Programming/IROM/FutureFlow/initial_model.ipynb#X40sZmlsZQ%3D%3D?line=9'>10</a>\u001b[0m     y_pred \u001b[39m=\u001b[39m model(batch_X)\n",
      "File \u001b[0;32m~/.local/lib/python3.10/site-packages/torch/utils/data/dataloader.py:633\u001b[0m, in \u001b[0;36m_BaseDataLoaderIter.__next__\u001b[0;34m(self)\u001b[0m\n\u001b[1;32m    630\u001b[0m \u001b[39mif\u001b[39;00m \u001b[39mself\u001b[39m\u001b[39m.\u001b[39m_sampler_iter \u001b[39mis\u001b[39;00m \u001b[39mNone\u001b[39;00m:\n\u001b[1;32m    631\u001b[0m     \u001b[39m# TODO(https://github.com/pytorch/pytorch/issues/76750)\u001b[39;00m\n\u001b[1;32m    632\u001b[0m     \u001b[39mself\u001b[39m\u001b[39m.\u001b[39m_reset()  \u001b[39m# type: ignore[call-arg]\u001b[39;00m\n\u001b[0;32m--> 633\u001b[0m data \u001b[39m=\u001b[39m \u001b[39mself\u001b[39;49m\u001b[39m.\u001b[39;49m_next_data()\n\u001b[1;32m    634\u001b[0m \u001b[39mself\u001b[39m\u001b[39m.\u001b[39m_num_yielded \u001b[39m+\u001b[39m\u001b[39m=\u001b[39m \u001b[39m1\u001b[39m\n\u001b[1;32m    635\u001b[0m \u001b[39mif\u001b[39;00m \u001b[39mself\u001b[39m\u001b[39m.\u001b[39m_dataset_kind \u001b[39m==\u001b[39m _DatasetKind\u001b[39m.\u001b[39mIterable \u001b[39mand\u001b[39;00m \\\n\u001b[1;32m    636\u001b[0m         \u001b[39mself\u001b[39m\u001b[39m.\u001b[39m_IterableDataset_len_called \u001b[39mis\u001b[39;00m \u001b[39mnot\u001b[39;00m \u001b[39mNone\u001b[39;00m \u001b[39mand\u001b[39;00m \\\n\u001b[1;32m    637\u001b[0m         \u001b[39mself\u001b[39m\u001b[39m.\u001b[39m_num_yielded \u001b[39m>\u001b[39m \u001b[39mself\u001b[39m\u001b[39m.\u001b[39m_IterableDataset_len_called:\n",
      "File \u001b[0;32m~/.local/lib/python3.10/site-packages/torch/utils/data/dataloader.py:677\u001b[0m, in \u001b[0;36m_SingleProcessDataLoaderIter._next_data\u001b[0;34m(self)\u001b[0m\n\u001b[1;32m    675\u001b[0m \u001b[39mdef\u001b[39;00m \u001b[39m_next_data\u001b[39m(\u001b[39mself\u001b[39m):\n\u001b[1;32m    676\u001b[0m     index \u001b[39m=\u001b[39m \u001b[39mself\u001b[39m\u001b[39m.\u001b[39m_next_index()  \u001b[39m# may raise StopIteration\u001b[39;00m\n\u001b[0;32m--> 677\u001b[0m     data \u001b[39m=\u001b[39m \u001b[39mself\u001b[39;49m\u001b[39m.\u001b[39;49m_dataset_fetcher\u001b[39m.\u001b[39;49mfetch(index)  \u001b[39m# may raise StopIteration\u001b[39;00m\n\u001b[1;32m    678\u001b[0m     \u001b[39mif\u001b[39;00m \u001b[39mself\u001b[39m\u001b[39m.\u001b[39m_pin_memory:\n\u001b[1;32m    679\u001b[0m         data \u001b[39m=\u001b[39m _utils\u001b[39m.\u001b[39mpin_memory\u001b[39m.\u001b[39mpin_memory(data, \u001b[39mself\u001b[39m\u001b[39m.\u001b[39m_pin_memory_device)\n",
      "File \u001b[0;32m~/.local/lib/python3.10/site-packages/torch/utils/data/_utils/fetch.py:54\u001b[0m, in \u001b[0;36m_MapDatasetFetcher.fetch\u001b[0;34m(self, possibly_batched_index)\u001b[0m\n\u001b[1;32m     52\u001b[0m \u001b[39melse\u001b[39;00m:\n\u001b[1;32m     53\u001b[0m     data \u001b[39m=\u001b[39m \u001b[39mself\u001b[39m\u001b[39m.\u001b[39mdataset[possibly_batched_index]\n\u001b[0;32m---> 54\u001b[0m \u001b[39mreturn\u001b[39;00m \u001b[39mself\u001b[39;49m\u001b[39m.\u001b[39;49mcollate_fn(data)\n",
      "File \u001b[0;32m~/.local/lib/python3.10/site-packages/torch/utils/data/_utils/collate.py:265\u001b[0m, in \u001b[0;36mdefault_collate\u001b[0;34m(batch)\u001b[0m\n\u001b[1;32m    204\u001b[0m \u001b[39mdef\u001b[39;00m \u001b[39mdefault_collate\u001b[39m(batch):\n\u001b[1;32m    205\u001b[0m \u001b[39m    \u001b[39m\u001b[39mr\u001b[39m\u001b[39m\"\"\"\u001b[39;00m\n\u001b[1;32m    206\u001b[0m \u001b[39m        Function that takes in a batch of data and puts the elements within the batch\u001b[39;00m\n\u001b[1;32m    207\u001b[0m \u001b[39m        into a tensor with an additional outer dimension - batch size. The exact output type can be\u001b[39;00m\n\u001b[0;32m   (...)\u001b[0m\n\u001b[1;32m    263\u001b[0m \u001b[39m            >>> default_collate(batch)  # Handle `CustomType` automatically\u001b[39;00m\n\u001b[1;32m    264\u001b[0m \u001b[39m    \"\"\"\u001b[39;00m\n\u001b[0;32m--> 265\u001b[0m     \u001b[39mreturn\u001b[39;00m collate(batch, collate_fn_map\u001b[39m=\u001b[39;49mdefault_collate_fn_map)\n",
      "File \u001b[0;32m~/.local/lib/python3.10/site-packages/torch/utils/data/_utils/collate.py:142\u001b[0m, in \u001b[0;36mcollate\u001b[0;34m(batch, collate_fn_map)\u001b[0m\n\u001b[1;32m    139\u001b[0m transposed \u001b[39m=\u001b[39m \u001b[39mlist\u001b[39m(\u001b[39mzip\u001b[39m(\u001b[39m*\u001b[39mbatch))  \u001b[39m# It may be accessed twice, so we use a list.\u001b[39;00m\n\u001b[1;32m    141\u001b[0m \u001b[39mif\u001b[39;00m \u001b[39misinstance\u001b[39m(elem, \u001b[39mtuple\u001b[39m):\n\u001b[0;32m--> 142\u001b[0m     \u001b[39mreturn\u001b[39;00m [collate(samples, collate_fn_map\u001b[39m=\u001b[39mcollate_fn_map) \u001b[39mfor\u001b[39;00m samples \u001b[39min\u001b[39;00m transposed]  \u001b[39m# Backwards compatibility.\u001b[39;00m\n\u001b[1;32m    143\u001b[0m \u001b[39melse\u001b[39;00m:\n\u001b[1;32m    144\u001b[0m     \u001b[39mtry\u001b[39;00m:\n",
      "File \u001b[0;32m~/.local/lib/python3.10/site-packages/torch/utils/data/_utils/collate.py:142\u001b[0m, in \u001b[0;36m<listcomp>\u001b[0;34m(.0)\u001b[0m\n\u001b[1;32m    139\u001b[0m transposed \u001b[39m=\u001b[39m \u001b[39mlist\u001b[39m(\u001b[39mzip\u001b[39m(\u001b[39m*\u001b[39mbatch))  \u001b[39m# It may be accessed twice, so we use a list.\u001b[39;00m\n\u001b[1;32m    141\u001b[0m \u001b[39mif\u001b[39;00m \u001b[39misinstance\u001b[39m(elem, \u001b[39mtuple\u001b[39m):\n\u001b[0;32m--> 142\u001b[0m     \u001b[39mreturn\u001b[39;00m [collate(samples, collate_fn_map\u001b[39m=\u001b[39;49mcollate_fn_map) \u001b[39mfor\u001b[39;00m samples \u001b[39min\u001b[39;00m transposed]  \u001b[39m# Backwards compatibility.\u001b[39;00m\n\u001b[1;32m    143\u001b[0m \u001b[39melse\u001b[39;00m:\n\u001b[1;32m    144\u001b[0m     \u001b[39mtry\u001b[39;00m:\n",
      "File \u001b[0;32m~/.local/lib/python3.10/site-packages/torch/utils/data/_utils/collate.py:119\u001b[0m, in \u001b[0;36mcollate\u001b[0;34m(batch, collate_fn_map)\u001b[0m\n\u001b[1;32m    117\u001b[0m \u001b[39mif\u001b[39;00m collate_fn_map \u001b[39mis\u001b[39;00m \u001b[39mnot\u001b[39;00m \u001b[39mNone\u001b[39;00m:\n\u001b[1;32m    118\u001b[0m     \u001b[39mif\u001b[39;00m elem_type \u001b[39min\u001b[39;00m collate_fn_map:\n\u001b[0;32m--> 119\u001b[0m         \u001b[39mreturn\u001b[39;00m collate_fn_map[elem_type](batch, collate_fn_map\u001b[39m=\u001b[39;49mcollate_fn_map)\n\u001b[1;32m    121\u001b[0m     \u001b[39mfor\u001b[39;00m collate_type \u001b[39min\u001b[39;00m collate_fn_map:\n\u001b[1;32m    122\u001b[0m         \u001b[39mif\u001b[39;00m \u001b[39misinstance\u001b[39m(elem, collate_type):\n",
      "File \u001b[0;32m~/.local/lib/python3.10/site-packages/torch/utils/data/_utils/collate.py:162\u001b[0m, in \u001b[0;36mcollate_tensor_fn\u001b[0;34m(batch, collate_fn_map)\u001b[0m\n\u001b[1;32m    160\u001b[0m     storage \u001b[39m=\u001b[39m elem\u001b[39m.\u001b[39m_typed_storage()\u001b[39m.\u001b[39m_new_shared(numel, device\u001b[39m=\u001b[39melem\u001b[39m.\u001b[39mdevice)\n\u001b[1;32m    161\u001b[0m     out \u001b[39m=\u001b[39m elem\u001b[39m.\u001b[39mnew(storage)\u001b[39m.\u001b[39mresize_(\u001b[39mlen\u001b[39m(batch), \u001b[39m*\u001b[39m\u001b[39mlist\u001b[39m(elem\u001b[39m.\u001b[39msize()))\n\u001b[0;32m--> 162\u001b[0m \u001b[39mreturn\u001b[39;00m torch\u001b[39m.\u001b[39;49mstack(batch, \u001b[39m0\u001b[39;49m, out\u001b[39m=\u001b[39;49mout)\n",
      "\u001b[0;31mKeyboardInterrupt\u001b[0m: "
     ]
    }
   ],
   "source": [
    "epochs = 30\n",
    "train_losses = []\n",
    "for epoch in range(epochs):\n",
    "    model.train()\n",
    "    train_loss = 0\n",
    "    \n",
    "    for batch_X, batch_y in train_loader:\n",
    "        optimizer.zero_grad()\n",
    "\n",
    "        y_pred = model(batch_X)\n",
    "        # print(y_pred, batch_y)\n",
    "        loss = model.custom_loss(torch.reshape(y_pred, (1, len(y_pred))), batch_y)\n",
    "        loss.backward()\n",
    "        optimizer.step()\n",
    "        # print(loss.item())\n",
    "        train_loss += loss.item()\n",
    "\n",
    "\n",
    "    train_loss /= len(train_loader)\n",
    "    train_losses.append(train_loss)\n",
    "\n",
    "    print(f\"Epoch [{epoch+1}/{epochs}] - \"\n",
    "          f\"Train Loss: {train_loss:.4f}\")"
   ]
  },
  {
   "cell_type": "code",
   "execution_count": 147,
   "metadata": {},
   "outputs": [
    {
     "name": "stdout",
     "output_type": "stream",
     "text": [
      "tensor([[-0.3959],\n",
      "        [-0.4964],\n",
      "        [-0.5870],\n",
      "        ...,\n",
      "        [ 0.7644],\n",
      "        [ 0.4947],\n",
      "        [ 0.1521]], grad_fn=<AddmmBackward0>)\n"
     ]
    }
   ],
   "source": [
    "print(model(X_train))"
   ]
  },
  {
   "cell_type": "code",
   "execution_count": 148,
   "metadata": {},
   "outputs": [
    {
     "name": "stdout",
     "output_type": "stream",
     "text": [
      "tensor([[-0.6272],\n",
      "        [-0.6265],\n",
      "        [-0.6256],\n",
      "        ...,\n",
      "        [ 0.6069],\n",
      "        [ 0.5965],\n",
      "        [ 0.5852]], grad_fn=<AddmmBackward0>)\n"
     ]
    }
   ],
   "source": [
    "print(shit_model(X_train))"
   ]
  },
  {
   "cell_type": "code",
   "execution_count": 149,
   "metadata": {},
   "outputs": [
    {
     "name": "stdout",
     "output_type": "stream",
     "text": [
      "tensor([-0.5259, -0.6325, -0.5548,  ...,  0.3600, -0.0801,  0.1922])\n"
     ]
    }
   ],
   "source": [
    "print(y_train)"
   ]
  },
  {
   "cell_type": "code",
   "execution_count": 156,
   "metadata": {},
   "outputs": [],
   "source": [
    "y_test_pred = model(X_test)\n",
    "# y_test_pred = y_test_pred.reshape(1, len(y_test_pred))"
   ]
  },
  {
   "cell_type": "code",
   "execution_count": 157,
   "metadata": {},
   "outputs": [],
   "source": [
    "y_test_pred_shit = shit_model(X_test)\n",
    "# y_test_pred_shit = y_test_pred_shit.reshape(1, len(y_test_pred_shit))\n"
   ]
  },
  {
   "cell_type": "code",
   "execution_count": 158,
   "metadata": {},
   "outputs": [
    {
     "name": "stdout",
     "output_type": "stream",
     "text": [
      "tensor([[0.9402],\n",
      "        [0.8532],\n",
      "        [0.7277],\n",
      "        ...,\n",
      "        [0.6523],\n",
      "        [0.8313],\n",
      "        [1.1406]], grad_fn=<AddmmBackward0>)\n"
     ]
    }
   ],
   "source": [
    "print(y_test_pred)"
   ]
  },
  {
   "cell_type": "code",
   "execution_count": 159,
   "metadata": {},
   "outputs": [
    {
     "name": "stdout",
     "output_type": "stream",
     "text": [
      "tensor(0.1309, grad_fn=<MeanBackward0>)\n"
     ]
    }
   ],
   "source": [
    "print(model.custom_loss(y_test, y_test_pred))"
   ]
  },
  {
   "cell_type": "code",
   "execution_count": 160,
   "metadata": {},
   "outputs": [
    {
     "name": "stdout",
     "output_type": "stream",
     "text": [
      "tensor(0.3368, grad_fn=<MeanBackward0>)\n"
     ]
    }
   ],
   "source": [
    "print(model.custom_loss(y_test, y_test_pred_shit))"
   ]
  },
  {
   "cell_type": "code",
   "execution_count": 136,
   "metadata": {},
   "outputs": [
    {
     "name": "stdout",
     "output_type": "stream",
     "text": [
      "Epoch [1/30] - Train Loss: 0.1102\n",
      "Epoch [2/30] - Train Loss: 0.1102\n",
      "Epoch [3/30] - Train Loss: 0.1102\n",
      "Epoch [4/30] - Train Loss: 0.1102\n",
      "Epoch [5/30] - Train Loss: 0.1102\n",
      "Epoch [6/30] - Train Loss: 0.1102\n",
      "Epoch [7/30] - Train Loss: 0.1103\n",
      "Epoch [8/30] - Train Loss: 0.1102\n",
      "Epoch [9/30] - Train Loss: 0.1102\n",
      "Epoch [10/30] - Train Loss: 0.1102\n",
      "Epoch [11/30] - Train Loss: 0.1102\n",
      "Epoch [12/30] - Train Loss: 0.1102\n"
     ]
    },
    {
     "ename": "KeyboardInterrupt",
     "evalue": "",
     "output_type": "error",
     "traceback": [
      "\u001b[0;31m---------------------------------------------------------------------------\u001b[0m",
      "\u001b[0;31mKeyboardInterrupt\u001b[0m                         Traceback (most recent call last)",
      "\u001b[1;32m/home/dylaneg/Documents/Programming/IROM/FutureFlow/initial_model.ipynb Cell 42\u001b[0m line \u001b[0;36m7\n\u001b[1;32m      <a href='vscode-notebook-cell:/home/dylaneg/Documents/Programming/IROM/FutureFlow/initial_model.ipynb#Y144sZmlsZQ%3D%3D?line=3'>4</a>\u001b[0m shit_model\u001b[39m.\u001b[39mtrain()\n\u001b[1;32m      <a href='vscode-notebook-cell:/home/dylaneg/Documents/Programming/IROM/FutureFlow/initial_model.ipynb#Y144sZmlsZQ%3D%3D?line=4'>5</a>\u001b[0m train_loss \u001b[39m=\u001b[39m \u001b[39m0\u001b[39m\n\u001b[0;32m----> <a href='vscode-notebook-cell:/home/dylaneg/Documents/Programming/IROM/FutureFlow/initial_model.ipynb#Y144sZmlsZQ%3D%3D?line=6'>7</a>\u001b[0m \u001b[39mfor\u001b[39;00m batch_X, batch_y \u001b[39min\u001b[39;00m train_loader:\n\u001b[1;32m      <a href='vscode-notebook-cell:/home/dylaneg/Documents/Programming/IROM/FutureFlow/initial_model.ipynb#Y144sZmlsZQ%3D%3D?line=7'>8</a>\u001b[0m     optimizer\u001b[39m.\u001b[39mzero_grad()\n\u001b[1;32m     <a href='vscode-notebook-cell:/home/dylaneg/Documents/Programming/IROM/FutureFlow/initial_model.ipynb#Y144sZmlsZQ%3D%3D?line=9'>10</a>\u001b[0m     y_pred \u001b[39m=\u001b[39m shit_model(batch_X)\n",
      "File \u001b[0;32m~/.local/lib/python3.10/site-packages/torch/utils/data/dataloader.py:633\u001b[0m, in \u001b[0;36m_BaseDataLoaderIter.__next__\u001b[0;34m(self)\u001b[0m\n\u001b[1;32m    630\u001b[0m \u001b[39mif\u001b[39;00m \u001b[39mself\u001b[39m\u001b[39m.\u001b[39m_sampler_iter \u001b[39mis\u001b[39;00m \u001b[39mNone\u001b[39;00m:\n\u001b[1;32m    631\u001b[0m     \u001b[39m# TODO(https://github.com/pytorch/pytorch/issues/76750)\u001b[39;00m\n\u001b[1;32m    632\u001b[0m     \u001b[39mself\u001b[39m\u001b[39m.\u001b[39m_reset()  \u001b[39m# type: ignore[call-arg]\u001b[39;00m\n\u001b[0;32m--> 633\u001b[0m data \u001b[39m=\u001b[39m \u001b[39mself\u001b[39;49m\u001b[39m.\u001b[39;49m_next_data()\n\u001b[1;32m    634\u001b[0m \u001b[39mself\u001b[39m\u001b[39m.\u001b[39m_num_yielded \u001b[39m+\u001b[39m\u001b[39m=\u001b[39m \u001b[39m1\u001b[39m\n\u001b[1;32m    635\u001b[0m \u001b[39mif\u001b[39;00m \u001b[39mself\u001b[39m\u001b[39m.\u001b[39m_dataset_kind \u001b[39m==\u001b[39m _DatasetKind\u001b[39m.\u001b[39mIterable \u001b[39mand\u001b[39;00m \\\n\u001b[1;32m    636\u001b[0m         \u001b[39mself\u001b[39m\u001b[39m.\u001b[39m_IterableDataset_len_called \u001b[39mis\u001b[39;00m \u001b[39mnot\u001b[39;00m \u001b[39mNone\u001b[39;00m \u001b[39mand\u001b[39;00m \\\n\u001b[1;32m    637\u001b[0m         \u001b[39mself\u001b[39m\u001b[39m.\u001b[39m_num_yielded \u001b[39m>\u001b[39m \u001b[39mself\u001b[39m\u001b[39m.\u001b[39m_IterableDataset_len_called:\n",
      "File \u001b[0;32m~/.local/lib/python3.10/site-packages/torch/utils/data/dataloader.py:677\u001b[0m, in \u001b[0;36m_SingleProcessDataLoaderIter._next_data\u001b[0;34m(self)\u001b[0m\n\u001b[1;32m    675\u001b[0m \u001b[39mdef\u001b[39;00m \u001b[39m_next_data\u001b[39m(\u001b[39mself\u001b[39m):\n\u001b[1;32m    676\u001b[0m     index \u001b[39m=\u001b[39m \u001b[39mself\u001b[39m\u001b[39m.\u001b[39m_next_index()  \u001b[39m# may raise StopIteration\u001b[39;00m\n\u001b[0;32m--> 677\u001b[0m     data \u001b[39m=\u001b[39m \u001b[39mself\u001b[39;49m\u001b[39m.\u001b[39;49m_dataset_fetcher\u001b[39m.\u001b[39;49mfetch(index)  \u001b[39m# may raise StopIteration\u001b[39;00m\n\u001b[1;32m    678\u001b[0m     \u001b[39mif\u001b[39;00m \u001b[39mself\u001b[39m\u001b[39m.\u001b[39m_pin_memory:\n\u001b[1;32m    679\u001b[0m         data \u001b[39m=\u001b[39m _utils\u001b[39m.\u001b[39mpin_memory\u001b[39m.\u001b[39mpin_memory(data, \u001b[39mself\u001b[39m\u001b[39m.\u001b[39m_pin_memory_device)\n",
      "File \u001b[0;32m~/.local/lib/python3.10/site-packages/torch/utils/data/_utils/fetch.py:54\u001b[0m, in \u001b[0;36m_MapDatasetFetcher.fetch\u001b[0;34m(self, possibly_batched_index)\u001b[0m\n\u001b[1;32m     52\u001b[0m \u001b[39melse\u001b[39;00m:\n\u001b[1;32m     53\u001b[0m     data \u001b[39m=\u001b[39m \u001b[39mself\u001b[39m\u001b[39m.\u001b[39mdataset[possibly_batched_index]\n\u001b[0;32m---> 54\u001b[0m \u001b[39mreturn\u001b[39;00m \u001b[39mself\u001b[39;49m\u001b[39m.\u001b[39;49mcollate_fn(data)\n",
      "File \u001b[0;32m~/.local/lib/python3.10/site-packages/torch/utils/data/_utils/collate.py:265\u001b[0m, in \u001b[0;36mdefault_collate\u001b[0;34m(batch)\u001b[0m\n\u001b[1;32m    204\u001b[0m \u001b[39mdef\u001b[39;00m \u001b[39mdefault_collate\u001b[39m(batch):\n\u001b[1;32m    205\u001b[0m \u001b[39m    \u001b[39m\u001b[39mr\u001b[39m\u001b[39m\"\"\"\u001b[39;00m\n\u001b[1;32m    206\u001b[0m \u001b[39m        Function that takes in a batch of data and puts the elements within the batch\u001b[39;00m\n\u001b[1;32m    207\u001b[0m \u001b[39m        into a tensor with an additional outer dimension - batch size. The exact output type can be\u001b[39;00m\n\u001b[0;32m   (...)\u001b[0m\n\u001b[1;32m    263\u001b[0m \u001b[39m            >>> default_collate(batch)  # Handle `CustomType` automatically\u001b[39;00m\n\u001b[1;32m    264\u001b[0m \u001b[39m    \"\"\"\u001b[39;00m\n\u001b[0;32m--> 265\u001b[0m     \u001b[39mreturn\u001b[39;00m collate(batch, collate_fn_map\u001b[39m=\u001b[39;49mdefault_collate_fn_map)\n",
      "File \u001b[0;32m~/.local/lib/python3.10/site-packages/torch/utils/data/_utils/collate.py:142\u001b[0m, in \u001b[0;36mcollate\u001b[0;34m(batch, collate_fn_map)\u001b[0m\n\u001b[1;32m    139\u001b[0m transposed \u001b[39m=\u001b[39m \u001b[39mlist\u001b[39m(\u001b[39mzip\u001b[39m(\u001b[39m*\u001b[39mbatch))  \u001b[39m# It may be accessed twice, so we use a list.\u001b[39;00m\n\u001b[1;32m    141\u001b[0m \u001b[39mif\u001b[39;00m \u001b[39misinstance\u001b[39m(elem, \u001b[39mtuple\u001b[39m):\n\u001b[0;32m--> 142\u001b[0m     \u001b[39mreturn\u001b[39;00m [collate(samples, collate_fn_map\u001b[39m=\u001b[39mcollate_fn_map) \u001b[39mfor\u001b[39;00m samples \u001b[39min\u001b[39;00m transposed]  \u001b[39m# Backwards compatibility.\u001b[39;00m\n\u001b[1;32m    143\u001b[0m \u001b[39melse\u001b[39;00m:\n\u001b[1;32m    144\u001b[0m     \u001b[39mtry\u001b[39;00m:\n",
      "File \u001b[0;32m~/.local/lib/python3.10/site-packages/torch/utils/data/_utils/collate.py:142\u001b[0m, in \u001b[0;36m<listcomp>\u001b[0;34m(.0)\u001b[0m\n\u001b[1;32m    139\u001b[0m transposed \u001b[39m=\u001b[39m \u001b[39mlist\u001b[39m(\u001b[39mzip\u001b[39m(\u001b[39m*\u001b[39mbatch))  \u001b[39m# It may be accessed twice, so we use a list.\u001b[39;00m\n\u001b[1;32m    141\u001b[0m \u001b[39mif\u001b[39;00m \u001b[39misinstance\u001b[39m(elem, \u001b[39mtuple\u001b[39m):\n\u001b[0;32m--> 142\u001b[0m     \u001b[39mreturn\u001b[39;00m [collate(samples, collate_fn_map\u001b[39m=\u001b[39;49mcollate_fn_map) \u001b[39mfor\u001b[39;00m samples \u001b[39min\u001b[39;00m transposed]  \u001b[39m# Backwards compatibility.\u001b[39;00m\n\u001b[1;32m    143\u001b[0m \u001b[39melse\u001b[39;00m:\n\u001b[1;32m    144\u001b[0m     \u001b[39mtry\u001b[39;00m:\n",
      "File \u001b[0;32m~/.local/lib/python3.10/site-packages/torch/utils/data/_utils/collate.py:119\u001b[0m, in \u001b[0;36mcollate\u001b[0;34m(batch, collate_fn_map)\u001b[0m\n\u001b[1;32m    117\u001b[0m \u001b[39mif\u001b[39;00m collate_fn_map \u001b[39mis\u001b[39;00m \u001b[39mnot\u001b[39;00m \u001b[39mNone\u001b[39;00m:\n\u001b[1;32m    118\u001b[0m     \u001b[39mif\u001b[39;00m elem_type \u001b[39min\u001b[39;00m collate_fn_map:\n\u001b[0;32m--> 119\u001b[0m         \u001b[39mreturn\u001b[39;00m collate_fn_map[elem_type](batch, collate_fn_map\u001b[39m=\u001b[39;49mcollate_fn_map)\n\u001b[1;32m    121\u001b[0m     \u001b[39mfor\u001b[39;00m collate_type \u001b[39min\u001b[39;00m collate_fn_map:\n\u001b[1;32m    122\u001b[0m         \u001b[39mif\u001b[39;00m \u001b[39misinstance\u001b[39m(elem, collate_type):\n",
      "File \u001b[0;32m~/.local/lib/python3.10/site-packages/torch/utils/data/_utils/collate.py:162\u001b[0m, in \u001b[0;36mcollate_tensor_fn\u001b[0;34m(batch, collate_fn_map)\u001b[0m\n\u001b[1;32m    160\u001b[0m     storage \u001b[39m=\u001b[39m elem\u001b[39m.\u001b[39m_typed_storage()\u001b[39m.\u001b[39m_new_shared(numel, device\u001b[39m=\u001b[39melem\u001b[39m.\u001b[39mdevice)\n\u001b[1;32m    161\u001b[0m     out \u001b[39m=\u001b[39m elem\u001b[39m.\u001b[39mnew(storage)\u001b[39m.\u001b[39mresize_(\u001b[39mlen\u001b[39m(batch), \u001b[39m*\u001b[39m\u001b[39mlist\u001b[39m(elem\u001b[39m.\u001b[39msize()))\n\u001b[0;32m--> 162\u001b[0m \u001b[39mreturn\u001b[39;00m torch\u001b[39m.\u001b[39;49mstack(batch, \u001b[39m0\u001b[39;49m, out\u001b[39m=\u001b[39;49mout)\n",
      "\u001b[0;31mKeyboardInterrupt\u001b[0m: "
     ]
    }
   ],
   "source": [
    "epochs = 30\n",
    "train_losses = []\n",
    "for epoch in range(epochs):\n",
    "    shit_model.train()\n",
    "    train_loss = 0\n",
    "    \n",
    "    for batch_X, batch_y in train_loader:\n",
    "        optimizer.zero_grad()\n",
    "\n",
    "        y_pred = shit_model(batch_X)\n",
    "        # print(y_pred, batch_y)\n",
    "        loss = shit_model.custom_loss(torch.reshape(y_pred, (1, len(y_pred))), batch_y)\n",
    "        loss.backward()\n",
    "        optimizer.step()\n",
    "        # print(loss.item())\n",
    "        train_loss += loss.item()\n",
    "\n",
    "\n",
    "    train_loss /= len(train_loader)\n",
    "    train_losses.append(train_loss)\n",
    "\n",
    "    print(f\"Epoch [{epoch+1}/{epochs}] - \"\n",
    "          f\"Train Loss: {train_loss:.4f}\")"
   ]
  },
  {
   "cell_type": "code",
   "execution_count": 28,
   "metadata": {},
   "outputs": [
    {
     "data": {
      "text/plain": [
       "[<matplotlib.lines.Line2D at 0x7f6046606620>]"
      ]
     },
     "execution_count": 28,
     "metadata": {},
     "output_type": "execute_result"
    },
    {
     "data": {
      "image/png": "[encoded data removed]",
      "text/plain": [
       "<Figure size 640x480 with 1 Axes>"
      ]
     },
     "metadata": {},
     "output_type": "display_data"
    }
   ],
   "source": [
    "plt.plot(train_losses)"
   ]
  },
  {
   "cell_type": "code",
   "execution_count": 43,
   "metadata": {},
   "outputs": [
    {
     "data": {
      "text/plain": [
       "torch.Size([393412, 100])"
      ]
     },
     "execution_count": 43,
     "metadata": {},
     "output_type": "execute_result"
    }
   ],
   "source": [
    "X_train.shape"
   ]
  },
  {
   "cell_type": "code",
   "execution_count": 82,
   "metadata": {},
   "outputs": [],
   "source": [
    "weights = model.state_dict()"
   ]
  },
  {
   "cell_type": "code",
   "execution_count": 83,
   "metadata": {},
   "outputs": [],
   "source": [
    "weights['linear.weight'] = 0.01 * np.ones(100)"
   ]
  },
  {
   "cell_type": "code",
   "execution_count": 90,
   "metadata": {},
   "outputs": [],
   "source": [
    "weights['linear.bias'] = np.array([0])"
   ]
  },
  {
   "cell_type": "code",
   "execution_count": 96,
   "metadata": {},
   "outputs": [],
   "source": [
    "def set_weights(model, weights):\n",
    "    for name, param in model.named_parameters():\n",
    "        if name.endswith('weight') or name.endswith('bias'):\n",
    "            param.data.copy_(torch.from_numpy(weights[name]))"
   ]
  },
  {
   "cell_type": "code",
   "execution_count": 97,
   "metadata": {},
   "outputs": [
    {
     "name": "stdout",
     "output_type": "stream",
     "text": [
      "OrderedDict([('linear.weight', array([0.01, 0.01, 0.01, 0.01, 0.01, 0.01, 0.01, 0.01, 0.01, 0.01, 0.01,\n",
      "       0.01, 0.01, 0.01, 0.01, 0.01, 0.01, 0.01, 0.01, 0.01, 0.01, 0.01,\n",
      "       0.01, 0.01, 0.01, 0.01, 0.01, 0.01, 0.01, 0.01, 0.01, 0.01, 0.01,\n",
      "       0.01, 0.01, 0.01, 0.01, 0.01, 0.01, 0.01, 0.01, 0.01, 0.01, 0.01,\n",
      "       0.01, 0.01, 0.01, 0.01, 0.01, 0.01, 0.01, 0.01, 0.01, 0.01, 0.01,\n",
      "       0.01, 0.01, 0.01, 0.01, 0.01, 0.01, 0.01, 0.01, 0.01, 0.01, 0.01,\n",
      "       0.01, 0.01, 0.01, 0.01, 0.01, 0.01, 0.01, 0.01, 0.01, 0.01, 0.01,\n",
      "       0.01, 0.01, 0.01, 0.01, 0.01, 0.01, 0.01, 0.01, 0.01, 0.01, 0.01,\n",
      "       0.01, 0.01, 0.01, 0.01, 0.01, 0.01, 0.01, 0.01, 0.01, 0.01, 0.01,\n",
      "       0.01])), ('linear.bias', array([0]))])\n"
     ]
    }
   ],
   "source": [
    "print(weights)"
   ]
  },
  {
   "cell_type": "code",
   "execution_count": 98,
   "metadata": {},
   "outputs": [],
   "source": [
    "set_weights(model, weights)"
   ]
  },
  {
   "cell_type": "code",
   "execution_count": 99,
   "metadata": {},
   "outputs": [
    {
     "name": "stdout",
     "output_type": "stream",
     "text": [
      "OrderedDict([('linear.weight', tensor([[0.0100, 0.0100, 0.0100, 0.0100, 0.0100, 0.0100, 0.0100, 0.0100, 0.0100,\n",
      "         0.0100, 0.0100, 0.0100, 0.0100, 0.0100, 0.0100, 0.0100, 0.0100, 0.0100,\n",
      "         0.0100, 0.0100, 0.0100, 0.0100, 0.0100, 0.0100, 0.0100, 0.0100, 0.0100,\n",
      "         0.0100, 0.0100, 0.0100, 0.0100, 0.0100, 0.0100, 0.0100, 0.0100, 0.0100,\n",
      "         0.0100, 0.0100, 0.0100, 0.0100, 0.0100, 0.0100, 0.0100, 0.0100, 0.0100,\n",
      "         0.0100, 0.0100, 0.0100, 0.0100, 0.0100, 0.0100, 0.0100, 0.0100, 0.0100,\n",
      "         0.0100, 0.0100, 0.0100, 0.0100, 0.0100, 0.0100, 0.0100, 0.0100, 0.0100,\n",
      "         0.0100, 0.0100, 0.0100, 0.0100, 0.0100, 0.0100, 0.0100, 0.0100, 0.0100,\n",
      "         0.0100, 0.0100, 0.0100, 0.0100, 0.0100, 0.0100, 0.0100, 0.0100, 0.0100,\n",
      "         0.0100, 0.0100, 0.0100, 0.0100, 0.0100, 0.0100, 0.0100, 0.0100, 0.0100,\n",
      "         0.0100, 0.0100, 0.0100, 0.0100, 0.0100, 0.0100, 0.0100, 0.0100, 0.0100,\n",
      "         0.0100]])), ('linear.bias', tensor([0.]))])\n"
     ]
    }
   ],
   "source": [
    "print(model.state_dict())"
   ]
  },
  {
   "cell_type": "code",
   "execution_count": 100,
   "metadata": {},
   "outputs": [
    {
     "name": "stdout",
     "output_type": "stream",
     "text": [
      "tensor([[-0.6272],\n",
      "        [-0.6265],\n",
      "        [-0.6256],\n",
      "        ...,\n",
      "        [ 0.6069],\n",
      "        [ 0.5965],\n",
      "        [ 0.5852]], grad_fn=<AddmmBackward0>)\n"
     ]
    }
   ],
   "source": [
    "print(model(X_train))"
   ]
  },
  {
   "cell_type": "code",
   "execution_count": 103,
   "metadata": {},
   "outputs": [
    {
     "name": "stdout",
     "output_type": "stream",
     "text": [
      "tensor([-0.5259, -0.6325, -0.5548,  ...,  0.3600, -0.0801,  0.1922])\n"
     ]
    }
   ],
   "source": [
    "print(y_train)"
   ]
  },
  {
   "cell_type": "code",
   "execution_count": null,
   "metadata": {},
   "outputs": [],
   "source": [
    "print(mo)"
   ]
  },
  {
   "cell_type": "code",
   "execution_count": 104,
   "metadata": {},
   "outputs": [],
   "source": [
    "y_pred = model(X_train)"
   ]
  },
  {
   "cell_type": "code",
   "execution_count": 109,
   "metadata": {},
   "outputs": [
    {
     "name": "stdout",
     "output_type": "stream",
     "text": [
      "tensor(0.1102, grad_fn=<MeanBackward0>)\n"
     ]
    }
   ],
   "source": [
    "print(model.custom_loss(torch.reshape(y_pred, (1, len(y_pred))), y_train))"
   ]
  },
  {
   "cell_type": "code",
   "execution_count": 101,
   "metadata": {},
   "outputs": [
    {
     "name": "stdout",
     "output_type": "stream",
     "text": [
      "tensor([-0.6272, -0.6265, -0.6256,  ...,  0.6069,  0.5965,  0.5852])\n"
     ]
    }
   ],
   "source": [
    "print(y_pred_naive)\n"
   ]
  },
  {
   "cell_type": "code",
   "execution_count": 60,
   "metadata": {},
   "outputs": [],
   "source": [
    "weight = (model.state_dict()['linear.weight'])"
   ]
  },
  {
   "cell_type": "code",
   "execution_count": 73,
   "metadata": {},
   "outputs": [
    {
     "name": "stdout",
     "output_type": "stream",
     "text": [
      "tensor(-0.1610)\n"
     ]
    }
   ],
   "source": [
    "print(torch.dot(weight[0], X_train[1]))"
   ]
  },
  {
   "cell_type": "code",
   "execution_count": 65,
   "metadata": {},
   "outputs": [
    {
     "name": "stdout",
     "output_type": "stream",
     "text": [
      "tensor(-0.5259)\n"
     ]
    }
   ],
   "source": [
    "print(y_train[0])"
   ]
  },
  {
   "cell_type": "code",
   "execution_count": null,
   "metadata": {},
   "outputs": [],
   "source": [
    "model.state_d"
   ]
  },
  {
   "cell_type": "code",
   "execution_count": 71,
   "metadata": {},
   "outputs": [
    {
     "name": "stdout",
     "output_type": "stream",
     "text": [
      "tensor([[-0.4255],\n",
      "        [-0.3848],\n",
      "        [-0.3768],\n",
      "        ...,\n",
      "        [-0.0425],\n",
      "        [-0.0474],\n",
      "        [-0.0597]], grad_fn=<AddmmBackward0>)\n"
     ]
    }
   ],
   "source": [
    "print(model(X_train))"
   ]
  },
  {
   "cell_type": "code",
   "execution_count": 74,
   "metadata": {},
   "outputs": [
    {
     "name": "stdout",
     "output_type": "stream",
     "text": [
      "tensor([-0.6272, -0.6265, -0.6256,  ...,  0.6069,  0.5965,  0.5852])\n"
     ]
    }
   ],
   "source": [
    "print(y_pred_naive)"
   ]
  },
  {
   "cell_type": "code",
   "execution_count": 75,
   "metadata": {},
   "outputs": [
    {
     "name": "stdout",
     "output_type": "stream",
     "text": [
      "tensor([-0.5259, -0.6325, -0.5548,  ...,  0.3600, -0.0801,  0.1922])\n"
     ]
    }
   ],
   "source": [
    "print(y_train)"
   ]
  },
  {
   "cell_type": "code",
   "execution_count": 42,
   "metadata": {},
   "outputs": [],
   "source": [
    "y_pred_naive = torch.mean(X_train, axis=1)"
   ]
  },
  {
   "cell_type": "code",
   "execution_count": 43,
   "metadata": {},
   "outputs": [
    {
     "name": "stdout",
     "output_type": "stream",
     "text": [
      "tensor([-0.5259, -0.6325, -0.5548,  ...,  0.3600, -0.0801,  0.1922])\n"
     ]
    }
   ],
   "source": [
    "print(y_train)"
   ]
  },
  {
   "cell_type": "code",
   "execution_count": 50,
   "metadata": {},
   "outputs": [],
   "source": [
    "y_pred = model(X_train)\n",
    "y_pred = torch.reshape(y_pred, (1, len(y_pred)))"
   ]
  },
  {
   "cell_type": "code",
   "execution_count": 76,
   "metadata": {},
   "outputs": [
    {
     "name": "stdout",
     "output_type": "stream",
     "text": [
      "tensor(0.1102)\n"
     ]
    }
   ],
   "source": [
    "print(torch.mean(torch.square(y_train - y_pred_naive)))"
   ]
  },
  {
   "cell_type": "code",
   "execution_count": 51,
   "metadata": {},
   "outputs": [
    {
     "name": "stdout",
     "output_type": "stream",
     "text": [
      "tensor([-0.5259, -0.6325, -0.5548,  ...,  0.3600, -0.0801,  0.1922])\n"
     ]
    }
   ],
   "source": [
    "print(y_train)"
   ]
  },
  {
   "cell_type": "code",
   "execution_count": 77,
   "metadata": {},
   "outputs": [
    {
     "name": "stdout",
     "output_type": "stream",
     "text": [
      "tensor(0.8260, grad_fn=<MeanBackward0>)\n"
     ]
    }
   ],
   "source": [
    "print(torch.mean(torch.square(y_train - y_pred)))"
   ]
  },
  {
   "cell_type": "code",
   "execution_count": 39,
   "metadata": {},
   "outputs": [
    {
     "name": "stdout",
     "output_type": "stream",
     "text": [
      "tensor([0.9641, 0.9678, 0.9693,  ..., 1.1510, 1.1536, 1.1589])\n"
     ]
    }
   ],
   "source": [
    "ytorch.mean(X_test, axis=1))"
   ]
  },
  {
   "cell_type": "code",
   "execution_count": 40,
   "metadata": {},
   "outputs": [
    {
     "name": "stdout",
     "output_type": "stream",
     "text": [
      "tensor([[0.8178],\n",
      "        [0.6510],\n",
      "        [0.6810],\n",
      "        ...,\n",
      "        [0.8567],\n",
      "        [1.2523],\n",
      "        [0.4187]])\n"
     ]
    }
   ],
   "source": [
    "print(y_test)"
   ]
  },
  {
   "cell_type": "code",
   "execution_count": 41,
   "metadata": {},
   "outputs": [
    {
     "name": "stdout",
     "output_type": "stream",
     "text": [
      "tensor([[-0.4319],\n",
      "        [-0.4360],\n",
      "        [-0.4563],\n",
      "        ...,\n",
      "        [-0.4974],\n",
      "        [-0.5229],\n",
      "        [-0.5361]], grad_fn=<AddmmBackward0>)\n"
     ]
    }
   ],
   "source": [
    "print(model(X_test))"
   ]
  },
  {
   "cell_type": "code",
   "execution_count": 31,
   "metadata": {},
   "outputs": [
    {
     "name": "stdout",
     "output_type": "stream",
     "text": [
      "tensor(-0.6272)\n"
     ]
    }
   ],
   "source": [
    "print(torch.mean(X_train[0]))"
   ]
  },
  {
   "cell_type": "code",
   "execution_count": 48,
   "metadata": {},
   "outputs": [
    {
     "name": "stdout",
     "output_type": "stream",
     "text": [
      "tensor([ 0.4431,  0.5039, -0.0581,  0.3666,  0.5338,  0.5195,  0.6128,  0.6724,\n",
      "         0.6490,  0.1500,  0.1138,  0.0783,  0.0697, -0.2959, -0.3287, -0.2801,\n",
      "        -0.1941, -0.0867,  0.0940,  0.1770,  0.2358,  0.5711,  0.4604,  0.4024,\n",
      "         0.6897,  0.8702,  0.9726,  0.9850,  0.8408,  0.8025,  1.5419,  1.3170,\n",
      "         1.5054,  1.7147,  1.7623,  1.3183,  1.5217,  1.7357,  1.7620,  1.9109,\n",
      "         2.1560,  2.0367,  2.0160,  1.8407,  1.0691,  1.4692,  0.8995,  1.3332,\n",
      "         1.5711,  1.5152,  1.5127,  1.1988,  1.6845,  1.5824,  1.5286,  1.5740,\n",
      "         1.2177,  1.2005,  1.4791,  1.3948,  0.6606,  1.1867,  1.1406,  1.0428,\n",
      "         0.6660,  1.0248,  0.7115,  0.6081,  0.8290,  1.1358,  1.3087,  1.1245,\n",
      "         0.9293,  0.9053,  1.3654,  1.4631,  1.2502,  1.1705,  1.3348,  1.3646,\n",
      "         0.9887,  1.3845,  1.6278,  1.4238,  1.1778,  0.9017,  0.8699,  0.6698,\n",
      "         0.9149,  0.8501,  0.7878,  0.8671,  0.6282,  0.4052,  0.3926,  0.7766,\n",
      "         0.8231,  0.8231,  0.9565,  0.9785])\n"
     ]
    }
   ],
   "source": [
    "print(X_test[0])"
   ]
  },
  {
   "cell_type": "code",
   "execution_count": 30,
   "metadata": {},
   "outputs": [
    {
     "name": "stdout",
     "output_type": "stream",
     "text": [
      "tensor([0.8178])\n"
     ]
    }
   ],
   "source": [
    "print(y_test[0])"
   ]
  },
  {
   "cell_type": "code",
   "execution_count": 51,
   "metadata": {},
   "outputs": [],
   "source": [
    "y_pred = model(X_test)"
   ]
  },
  {
   "cell_type": "code",
   "execution_count": 56,
   "metadata": {},
   "outputs": [
    {
     "data": {
      "text/plain": [
       "torch.Size([98279, 1])"
      ]
     },
     "execution_count": 56,
     "metadata": {},
     "output_type": "execute_result"
    }
   ],
   "source": [
    "y_pred.shape"
   ]
  },
  {
   "cell_type": "code",
   "execution_count": 58,
   "metadata": {},
   "outputs": [
    {
     "data": {
      "text/plain": [
       "torch.Size([98279, 100])"
      ]
     },
     "execution_count": 58,
     "metadata": {},
     "output_type": "execute_result"
    }
   ],
   "source": [
    "X_test.shape"
   ]
  },
  {
   "cell_type": "code",
   "execution_count": 55,
   "metadata": {},
   "outputs": [
    {
     "ename": "RuntimeError",
     "evalue": "[enforce fail at alloc_cpu.cpp:75] err == 0. DefaultCPUAllocator: can't allocate memory: you tried to allocate 38634654248 bytes. Error code 12 (Cannot allocate memory)",
     "output_type": "error",
     "traceback": [
      "\u001b[0;31m---------------------------------------------------------------------------\u001b[0m",
      "\u001b[0;31mRuntimeError\u001b[0m                              Traceback (most recent call last)",
      "\u001b[1;32m/home/dylaneg/Documents/Programming/IROM/FutureFlow/initial_model.ipynb Cell 35\u001b[0m line \u001b[0;36m1\n\u001b[0;32m----> <a href='vscode-notebook-cell:/home/dylaneg/Documents/Programming/IROM/FutureFlow/initial_model.ipynb#X54sZmlsZQ%3D%3D?line=0'>1</a>\u001b[0m \u001b[39mprint\u001b[39m(torch\u001b[39m.\u001b[39msquare(torch\u001b[39m.\u001b[39mmean(y_pred \u001b[39m-\u001b[39;49m y_test)))\n",
      "\u001b[0;31mRuntimeError\u001b[0m: [enforce fail at alloc_cpu.cpp:75] err == 0. DefaultCPUAllocator: can't allocate memory: you tried to allocate 38634654248 bytes. Error code 12 (Cannot allocate memory)"
     ]
    }
   ],
   "source": [
    "print(torch.square(torch.mean(y_pred - y_test)))"
   ]
  },
  {
   "cell_type": "code",
   "execution_count": 46,
   "metadata": {},
   "outputs": [],
   "source": [
    "y_pred = model(X_train)"
   ]
  },
  {
   "cell_type": "code",
   "execution_count": 47,
   "metadata": {},
   "outputs": [
    {
     "name": "stdout",
     "output_type": "stream",
     "text": [
      "tensor([-0.5178], grad_fn=<SelectBackward0>)\n"
     ]
    }
   ],
   "source": [
    "print(y_pred[1])"
   ]
  },
  {
   "cell_type": "code",
   "execution_count": 37,
   "metadata": {},
   "outputs": [
    {
     "name": "stdout",
     "output_type": "stream",
     "text": [
      "[array([-0.58972238, -0.72152728, -0.91991368, -0.75024159, -0.75668931])\n",
      " array([-0.72152728, -0.91991368, -0.75024159, -0.75668931, -0.82416681])\n",
      " array([-0.91991368, -0.75024159, -0.75668931, -0.82416681, -0.93610322])\n",
      " array([-0.75024159, -0.75668931, -0.82416681, -0.93610322, -0.78659916])\n",
      " array([-0.75668931, -0.82416681, -0.93610322, -0.78659916, -0.79735558])]\n"
     ]
    }
   ],
   "source": [
    "print(X_train[:5])"
   ]
  }
 ],
 "metadata": {
  "kernelspec": {
   "display_name": "Python 3",
   "language": "python",
   "name": "python3"
  },
  "language_info": {
   "codemirror_mode": {
    "name": "ipython",
    "version": 3
   },
   "file_extension": ".py",
   "mimetype": "text/x-python",
   "name": "python",
   "nbconvert_exporter": "python",
   "pygments_lexer": "ipython3",
   "version": "3.10.12"
  },
  "orig_nbformat": 4
 },
 "nbformat": 4,
 "nbformat_minor": 2
}
